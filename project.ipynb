{
 "cells": [
  {
   "cell_type": "code",
   "execution_count": 3,
   "metadata": {},
   "outputs": [],
   "source": [
    "#math========================================\n",
    "import numpy as np\n",
    "import math as mt\n",
    "#============================================\n",
    "\n",
    "#scikit-learn================================\n",
    "from sklearn.cluster import KMeans\n",
    "import sklearn as sk\n",
    "#============================================\n",
    "\n",
    "#plot=======================================\n",
    "from matplotlib import pyplot as plt,image\n",
    "#===========================================\n",
    "\n",
    "#scikit-image =============================================\n",
    "import skimage.io as io\n",
    "import skimage as sk\n",
    "from skimage.exposure import histogram\n",
    "from skimage.color import rgb2gray,rgb2hsv,label2rgb,rgba2rgb\n",
    "from skimage.util import random_noise\n",
    "from skimage.feature import canny,peak_local_max\n",
    "from skimage.measure import label\n",
    "from skimage.filters import gaussian,thresholding,threshold_otsu\n",
    "import skimage.restoration as resto\n",
    "import skimage.segmentation as seg\n",
    "from skimage.filters.rank import entropy\n",
    "from skimage.morphology import disk\n",
    "#==========================================================\n",
    "\n",
    "#scipy lib for transformative operations ==================\n",
    "from scipy.signal import convolve2d\n",
    "from scipy import fftpack,ndimage\n",
    "#==========================================================\n",
    "\n",
    "#Comprehensive Image libraries ============================\n",
    "import cv2 \n",
    "import cvlib as cv\n",
    "#==========================================================\n",
    "\n",
    "#quality assessment modules ===============================\n",
    "import imquality.brisque as brisque\n",
    "#==========================================================\n"
   ]
  },
  {
   "cell_type": "code",
   "execution_count": 11,
   "metadata": {},
   "outputs": [],
   "source": [
    "class img(object):\n",
    "    def __init__(self,name):\n",
    "        self.name = name\n",
    "        self.imgs = io.imread(name)\n",
    "        if self.imgs.shape[2] > 3:\n",
    "            self.gray = rgb2gray(rgba2rgb(self.imgs))\n",
    "        else:\n",
    "            self.gray = rgb2gray(self.imgs)\n",
    "    @staticmethod\n",
    "    def func_(self):\n",
    "        self.functions = []\n",
    "    @staticmethod\n",
    "    def add_functions(self,functions,function_name: str):\n",
    "        self.functions.append((function_name,functions))\n",
    "    def get_quality(self):\n",
    "        return brisque.score(self.imgs)\n",
    "    def preprocess_noise(self):\n",
    "        org_score = self.get_quality()\n",
    "        add_noise = self.imgs.copy()\n",
    "        imp_noise = self.imgs.copy()\n",
    "        \n",
    "    def extract_contours(self):\n",
    "        copy = cv2.resize(self.gray,None,fx= 0.9,fy=0.9)\n",
    "        ret, binary = cv2.threshold(copy,0,255,cv2.THRESH_BINARY+cv2.THRESH_OTSU)\n",
    "        cnts, _ = cv2.findContours(binary,cv2.RETR_TREE,cv2.CHAIN_APPROX_SIMPLE)\n",
    "        img_copy = self.imgs.copy()\n",
    "        img_copy = cv2.drawContours(img_copy,cnts,-1,(0,255,0),thickness=2,lineType=cv2.LINE_AA)\n",
    "        return img_copy\n",
    "        "
   ]
  },
  {
   "cell_type": "code",
   "execution_count": 13,
   "metadata": {},
   "outputs": [
    {
     "ename": "error",
     "evalue": "OpenCV(4.8.1) D:\\a\\opencv-python\\opencv-python\\opencv\\modules\\imgproc\\src\\thresh.cpp:1555: error: (-2:Unspecified error) in function 'double __cdecl cv::threshold(const class cv::_InputArray &,const class cv::_OutputArray &,double,double,int)'\n> THRESH_OTSU mode:\n>     'src_type == CV_8UC1 || src_type == CV_16UC1'\n> where\n>     'src_type' is 6 (CV_64FC1)\n",
     "output_type": "error",
     "traceback": [
      "\u001b[1;31m---------------------------------------------------------------------------\u001b[0m",
      "\u001b[1;31merror\u001b[0m                                     Traceback (most recent call last)",
      "Cell \u001b[1;32mIn[13], line 3\u001b[0m\n\u001b[0;32m      1\u001b[0m imgs \u001b[38;5;241m=\u001b[39m img(\u001b[38;5;124m\"\u001b[39m\u001b[38;5;124mknife.jpg\u001b[39m\u001b[38;5;124m\"\u001b[39m)\n\u001b[0;32m      2\u001b[0m \u001b[38;5;66;03m# print(imgs.get_quality())\u001b[39;00m\n\u001b[1;32m----> 3\u001b[0m io\u001b[38;5;241m.\u001b[39mimshow(imgs\u001b[38;5;241m.\u001b[39mextract_contours())\n",
      "Cell \u001b[1;32mIn[11], line 23\u001b[0m, in \u001b[0;36mimg.extract_contours\u001b[1;34m(self)\u001b[0m\n\u001b[0;32m     21\u001b[0m \u001b[38;5;28;01mdef\u001b[39;00m \u001b[38;5;21mextract_contours\u001b[39m(\u001b[38;5;28mself\u001b[39m):\n\u001b[0;32m     22\u001b[0m     copy \u001b[38;5;241m=\u001b[39m cv2\u001b[38;5;241m.\u001b[39mresize(\u001b[38;5;28mself\u001b[39m\u001b[38;5;241m.\u001b[39mgray,\u001b[38;5;28;01mNone\u001b[39;00m,fx\u001b[38;5;241m=\u001b[39m \u001b[38;5;241m0.9\u001b[39m,fy\u001b[38;5;241m=\u001b[39m\u001b[38;5;241m0.9\u001b[39m)\n\u001b[1;32m---> 23\u001b[0m     ret, binary \u001b[38;5;241m=\u001b[39m cv2\u001b[38;5;241m.\u001b[39mthreshold(copy,\u001b[38;5;241m0\u001b[39m,\u001b[38;5;241m255\u001b[39m,cv2\u001b[38;5;241m.\u001b[39mTHRESH_BINARY\u001b[38;5;241m+\u001b[39mcv2\u001b[38;5;241m.\u001b[39mTHRESH_OTSU)\n\u001b[0;32m     24\u001b[0m     cnts, _ \u001b[38;5;241m=\u001b[39m cv2\u001b[38;5;241m.\u001b[39mfindContours(binary,cv2\u001b[38;5;241m.\u001b[39mRETR_TREE,cv2\u001b[38;5;241m.\u001b[39mCHAIN_APPROX_SIMPLE)\n\u001b[0;32m     25\u001b[0m     img_copy \u001b[38;5;241m=\u001b[39m \u001b[38;5;28mself\u001b[39m\u001b[38;5;241m.\u001b[39mimgs\u001b[38;5;241m.\u001b[39mcopy()\n",
      "\u001b[1;31merror\u001b[0m: OpenCV(4.8.1) D:\\a\\opencv-python\\opencv-python\\opencv\\modules\\imgproc\\src\\thresh.cpp:1555: error: (-2:Unspecified error) in function 'double __cdecl cv::threshold(const class cv::_InputArray &,const class cv::_OutputArray &,double,double,int)'\n> THRESH_OTSU mode:\n>     'src_type == CV_8UC1 || src_type == CV_16UC1'\n> where\n>     'src_type' is 6 (CV_64FC1)\n"
     ]
    }
   ],
   "source": [
    "imgs = img(\"knife.jpg\")\n",
    "# print(imgs.get_quality())\n",
    "io.imshow(imgs.extract_contours())"
   ]
  }
 ],
 "metadata": {
  "kernelspec": {
   "display_name": "base",
   "language": "python",
   "name": "python3"
  },
  "language_info": {
   "codemirror_mode": {
    "name": "ipython",
    "version": 3
   },
   "file_extension": ".py",
   "mimetype": "text/x-python",
   "name": "python",
   "nbconvert_exporter": "python",
   "pygments_lexer": "ipython3",
   "version": "3.11.5"
  }
 },
 "nbformat": 4,
 "nbformat_minor": 2
}
